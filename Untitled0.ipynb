{
  "nbformat": 4,
  "nbformat_minor": 0,
  "metadata": {
    "colab": {
      "provenance": [],
      "mount_file_id": "1ob6Jwybr4YJOpsCBufku979PM8UiIFpf",
      "authorship_tag": "ABX9TyO6N89kIlItdkoZItcD45Hv",
      "include_colab_link": true
    },
    "kernelspec": {
      "name": "python3",
      "display_name": "Python 3"
    },
    "language_info": {
      "name": "python"
    }
  },
  "cells": [
    {
      "cell_type": "markdown",
      "metadata": {
        "id": "view-in-github",
        "colab_type": "text"
      },
      "source": [
        "<a href=\"https://colab.research.google.com/github/itochs/Dig-CoLa_test/blob/main/Untitled0.ipynb\" target=\"_parent\"><img src=\"https://colab.research.google.com/assets/colab-badge.svg\" alt=\"Open In Colab\"/></a>"
      ]
    },
    {
      "cell_type": "code",
      "execution_count": 19,
      "metadata": {
        "colab": {
          "base_uri": "https://localhost:8080/"
        },
        "id": "Sl1nCE7mtg_Y",
        "outputId": "0e92d620-30d6-4c98-87e3-292553cd1d0c"
      },
      "outputs": [
        {
          "output_type": "stream",
          "name": "stdout",
          "text": [
            "80 80\n",
            "79 79\n",
            "[None, None, None, None, None]\n"
          ]
        }
      ],
      "source": [
        "import json\n",
        "from pprint import pprint\n",
        "with open(\"/content/drive/MyDrive/zemi_4/zemi/master/data.json\") as f:\n",
        "  data = json.load(f)\n",
        "\n",
        "# pprint(data)\n",
        "nodes = [i+1 for i in range(len(data[\"nodes\"]))]\n",
        "print(len(data[\"nodes\"]), len(nodes))\n",
        "n = len(nodes)\n",
        "\n",
        "links = [[d[\"source\"]+1, d[\"target\"]+1] for d in data[\"links\"]]\n",
        "# pprint(data[\"links\"])\n",
        "# pprint(links)\n",
        "print(len(data[\"links\"]), len(links))\n",
        "\n",
        "# n*nだけど，nを使ってアクセスできるように(n+1)にしている\n",
        "sigmas = [[None]*(n+1)]*(n+1)\n",
        "for i,j in links:\n",
        "  if sigmas[i][j] is None:\n",
        "    sigmas[i][j] = 1\n",
        "\n",
        "# d-dimensional layout\n",
        "d = 5\n",
        "# n*dだけど，nを使ってアクセスできるように(n+1)にしている\n",
        "X = [[None]*d]*(n+1)\n",
        "print(X[n])\n",
        "\n"
      ]
    },
    {
      "cell_type": "code",
      "source": [
        "# 全体のstress\n",
        "def stress(X: list[list], sigmas: list[list]):\n",
        "  \"\"\"\n",
        "  Returns: 全体のストレス\n",
        "  \"\"\"\n",
        "  # dist: graph-theoretical distance\n",
        "  #   d_{ij}: the length of the shortest path connecting i and j\n",
        "  #   Cohen -> the linear-network distance\n",
        "  #     because: better convey any clustered structure in the graph.\n",
        "  # weight: normalization constant\n",
        "  #   w_{ij} = d_{ij}^{ -1 * alpha }\n",
        "  #   Kamada ans Kawai -> alpha = 2\n",
        "  #   Cohen -> alpha = 0 and 1\n",
        "\n",
        "  dist = warshall_floyd(sigmas)\n",
        "  weights = weights_of_normalization_constant(2, dist)\n",
        "  alpha = 2\n",
        "  stress_sum = 0\n",
        "  for i in range(len(X)):\n",
        "    for j in range(i+1,len(X)):\n",
        "      mag = vector_magnitude(\n",
        "          sub_vector(X[i], X[j])\n",
        "        )\n",
        "      stress_sum += weights[i][j] * (mag - dist[i][j])**2\n",
        "  return stress_sum\n"
      ],
      "metadata": {
        "id": "XqfaM_Zc1tF5"
      },
      "execution_count": 35,
      "outputs": []
    },
    {
      "cell_type": "code",
      "source": [
        "def weights_of_normalization_constant(alpha, dist: list[list]):\n",
        "  \"\"\"\n",
        "  Returns: あるiからjのnormalization_constant\n",
        "  dist: 二頂点間の最短経路の長さ，到達不可ならfloat('inf')\n",
        "  \"\"\"\n",
        "  weights = [[None for _ in range(dist)] for _ in range(dist)]\n",
        "  for i,di in enumerate(dist):\n",
        "    for j,dij in enumerate(di):\n",
        "      if dij == float('inf'):\n",
        "        continue\n",
        "      weights[i][j] = dij**(-alpha)\n",
        "  \n",
        "  return weights\n"
      ],
      "metadata": {
        "id": "fASnnkKjNYso"
      },
      "execution_count": 34,
      "outputs": []
    },
    {
      "cell_type": "code",
      "source": [
        "from math import sqrt\n",
        "def vector_magnitude(X: list):\n",
        "  \"\"\"\n",
        "  Returns: ベクトルの大きさ\n",
        "  X = [] -> return 0\n",
        "  \"\"\"\n",
        "  dist = 0\n",
        "  for x in X:\n",
        "    dist += x**2\n",
        "  \n",
        "  return sqrt(dist)\n",
        "\n",
        "assert abs(vector_magnitude([]) - 0) <= 0.0000001, \"vector_magnitude\"\n",
        "assert abs(vector_magnitude([1,1]) - sqrt(2)) <= 0.0000001, \"vector_magnitude\"\n",
        "assert abs(vector_magnitude([1,2,3]) - sqrt(14)) <= 0.0000001, \"vector_magnitude\"\n"
      ],
      "metadata": {
        "id": "mc4zJj5M9PHP"
      },
      "execution_count": null,
      "outputs": []
    },
    {
      "cell_type": "code",
      "source": [
        "def sub_vector(a:list, b:list) -> list | None:\n",
        "  \"\"\"\n",
        "  Return: vector of (a - b) or None\n",
        "  aとbの長さが違うとNone\n",
        "  aとbのどちらかが空配列ならNone\n",
        "  \"\"\"\n",
        "  if len(a) != len(b):\n",
        "    return None\n",
        "  if not a or not b:\n",
        "    return None\n",
        "  \n",
        "  sub = [None]*len(a)\n",
        "  for i, (ai, bi) in enumerate(zip(a,b)):\n",
        "    sub[i] = ai-bi\n",
        "  \n",
        "  return sub\n",
        "\n",
        "assert sub_vector([], [1,2]) == None, \"sub_vector false\"\n",
        "assert sub_vector([1,2], []) == None, \"sub_vector false\"\n",
        "assert sub_vector([], []) == None, \"sub_vector false\"\n",
        "assert sub_vector([1,2], [1,2]) == [0,0], \"sub_vector false\"\n",
        "assert sub_vector([1,2], [2,1]) == [-1,1], \"sub_vector false\"\n",
        "assert sub_vector([1,2,3], [1,2]) == None, \"sub_vector length error\""
      ],
      "metadata": {
        "id": "A6ruwnK39Lmh"
      },
      "execution_count": null,
      "outputs": []
    },
    {
      "cell_type": "code",
      "source": [
        "\n",
        "def warshall_floyd(edge_dist:list[list]) -> list[list]:\n",
        "  \"\"\"\n",
        "  Returns: n頂点のグラフの，任意の二頂点間の最短経路の長さを返す\n",
        "\n",
        "  edge_dist: ある頂点からある頂点へ移動するときのコスト\n",
        "  到達できない場合は float('inf') が入る\n",
        "  \"\"\"\n",
        "  n = len(edge_dist)\n",
        "  dist = [[float('inf') for _ in range(n)] for _ in range(n)]\n",
        "  # 初期値\n",
        "  for i in range(n):\n",
        "    for j in range(n):\n",
        "      if i==j:\n",
        "        dist[i][j] = 0\n",
        "        continue\n",
        "      \n",
        "      if edge_dist[i][j] is None:\n",
        "        continue \n",
        "      dist[i][j] = edge_dist[i][j]\n",
        "  \n",
        "  # pprint(dist)\n",
        "\n",
        "  for k in range(n):\n",
        "    for i in range(n):\n",
        "      for j in range(n):\n",
        "      # d[i][j]が最短経路になっているか確認する\n",
        "      # i -> jの経路長よりも，iからkを中継してjに行った方が近いならそれに更新する\n",
        "        if dist[i][k] + dist[k][j] < dist[i][j]:\n",
        "          dist[i][j] = dist[i][k] + dist[k][j]\n",
        "  \n",
        "  return dist\n",
        "\n",
        "assert (\n",
        "    warshall_floyd([\n",
        "      [0, 2, 5, float('inf')],  # 頂点0からの距離\n",
        "      [2, 0, 4, 6],             # 頂点1からの距離\n",
        "      [5, 4, 0, 2],             # 頂点2からの距離\n",
        "      [float('inf'), 6, 2, 0]   # 頂点3からの距離\n",
        "    ]) == [\n",
        "        [0, 2, 5, 7],\n",
        "        [2, 0, 4, 6],\n",
        "        [5, 4, 0, 2],\n",
        "        [7, 6, 2, 0]\n",
        "      ]\n",
        "  ), \"warshall floyd: have inf\"\n",
        "\n",
        "assert (\n",
        "  warshall_floyd([\n",
        "    [None, 3, 8, None, None],  # 頂点0からの距離\n",
        "    [3, None, 2, None, 7],  # 頂点1からの距離\n",
        "    [8, 2, None, 2, None],  # 頂点2からの距離\n",
        "    [None, None, 2, None, 4],  # 頂点3からの距離\n",
        "    [None, 7, None, 4, None]  # 頂点4からの距離\n",
        "  ]) == [\n",
        "    [0, 3, 5, 7, 10],\n",
        "    [3, 0, 2, 4, 7],\n",
        "    [5, 2, 0, 2, 6],\n",
        "    [7, 4, 2, 0, 4],\n",
        "    [10, 7, 6, 4, 0]\n",
        "  ]\n",
        "), \"warshall floyd: have None\"\n",
        "\n",
        "assert (\n",
        "  warshall_floyd([\n",
        "    [None, 1, 3, None],\n",
        "    [1, None, 1, None],\n",
        "    [None, None, None, None],\n",
        "    [None, None, None, None]\n",
        "  ]) == [\n",
        "    [0,1,2,float('inf')],\n",
        "    [1,0,1,float('inf')],\n",
        "    [float('inf'),float('inf'),0,float('inf')],\n",
        "    [float('inf'),float('inf'),float('inf'),0]\n",
        "  ]\n",
        "), \"warshall floyd: have direct\""
      ],
      "metadata": {
        "id": "Ot49pwXO9c7U"
      },
      "execution_count": 33,
      "outputs": []
    }
  ]
}